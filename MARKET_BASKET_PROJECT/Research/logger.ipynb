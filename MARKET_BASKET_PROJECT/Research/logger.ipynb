{
 "cells": [
  {
   "cell_type": "code",
   "execution_count": 1,
   "metadata": {},
   "outputs": [],
   "source": [
    "## Below code should be written in MARKET_BASKET_ANALYSIS.CONSTANT.__INIT__.PY\n",
    "\n",
    "import os\n",
    "from datetime import datetime\n",
    "\n",
    "\n",
    "def get_current_time_stamp():\n",
    "    return f\"{datetime.now().strftime('%Y-%m-%d-%H-%M-%S')}\""
   ]
  },
  {
   "cell_type": "code",
   "execution_count": 2,
   "metadata": {},
   "outputs": [],
   "source": [
    "# Below code should be wrtitten in MARKET_BASKET_ANALYSIS.LOGGER.__INIT__.PY\n",
    "\n",
    "import logging\n",
    "from datetime import datetime\n",
    "import os\n",
    "import pandas as pd\n",
    "#from housing.constant import get_current_time_stamp \n",
    "LOG_DIR=\"MARKET_BASKET_PROJECT_Research_logger_notebook_logs\"\n",
    "\n",
    "def get_log_file_name():\n",
    "    return f\"log_{get_current_time_stamp()}.log\"\n",
    "\n",
    "LOG_FILE_NAME=get_log_file_name()\n",
    "\n",
    "os.makedirs(LOG_DIR,exist_ok=True)\n",
    "\n",
    "LOG_FILE_PATH = os.path.join(LOG_DIR,LOG_FILE_NAME)\n",
    "\n",
    "\n",
    "\n",
    "logging.basicConfig(filename=LOG_FILE_PATH,\n",
    "filemode=\"w\",\n",
    "format='[%(asctime)s]^;%(levelname)s^;%(lineno)d^;%(filename)s^;%(funcName)s()^;%(message)s',\n",
    "level=logging.INFO\n",
    ")\n",
    "\n",
    "def get_log_dataframe(file_path):\n",
    "    data=[]\n",
    "    with open(file_path) as log_file:\n",
    "        for line in log_file.readlines():\n",
    "            data.append(line.split(\"^;\"))\n",
    "\n",
    "    log_df = pd.DataFrame(data)\n",
    "    columns=[\"Time stamp\",\"Log Level\",\"line number\",\"file name\",\"function name\",\"message\"]\n",
    "    log_df.columns=columns\n",
    "    \n",
    "    log_df[\"log_message\"] = log_df['Time stamp'].astype(str) +\":$\"+ log_df[\"message\"]\n",
    "\n",
    "    return log_df[[\"log_message\"]]\n",
    "\n",
    "\n"
   ]
  },
  {
   "cell_type": "code",
   "execution_count": 3,
   "metadata": {},
   "outputs": [],
   "source": [
    "logging.info(\"This is being tested from the ipynb notebook\")"
   ]
  },
  {
   "cell_type": "code",
   "execution_count": 4,
   "metadata": {},
   "outputs": [
    {
     "data": {
      "text/plain": [
       "'d:\\\\Projects\\\\brazilian\\\\MarketBasketProject\\\\MARKET_BASKET_PROJECT\\\\Research'"
      ]
     },
     "execution_count": 4,
     "metadata": {},
     "output_type": "execute_result"
    }
   ],
   "source": [
    "os.getcwd()"
   ]
  },
  {
   "cell_type": "code",
   "execution_count": 6,
   "metadata": {},
   "outputs": [
    {
     "name": "stdout",
     "output_type": "stream",
     "text": [
      "Collecting flask\n",
      "  Using cached Flask-2.2.5-py3-none-any.whl (101 kB)\n",
      "Collecting Jinja2>=3.0\n",
      "  Using cached Jinja2-3.1.2-py3-none-any.whl (133 kB)\n",
      "Collecting Werkzeug>=2.2.2\n",
      "  Using cached Werkzeug-2.2.3-py3-none-any.whl (233 kB)\n",
      "Requirement already satisfied: importlib-metadata>=3.6.0 in c:\\users\\ace\\appdata\\roaming\\python\\python37\\site-packages (from flask) (5.0.0)\n",
      "Collecting click>=8.0\n",
      "  Downloading click-8.1.6-py3-none-any.whl (97 kB)\n",
      "     ---------------------------------------- 97.9/97.9 kB 5.8 MB/s eta 0:00:00\n",
      "Collecting itsdangerous>=2.0\n",
      "  Using cached itsdangerous-2.1.2-py3-none-any.whl (15 kB)\n",
      "Requirement already satisfied: colorama in d:\\projects\\brazilian\\marketbasketproject\\venv\\lib\\site-packages (from click>=8.0->flask) (0.4.6)\n",
      "Requirement already satisfied: typing-extensions>=3.6.4 in c:\\users\\ace\\appdata\\roaming\\python\\python37\\site-packages (from importlib-metadata>=3.6.0->flask) (4.4.0)\n",
      "Requirement already satisfied: zipp>=0.5 in c:\\users\\ace\\appdata\\roaming\\python\\python37\\site-packages (from importlib-metadata>=3.6.0->flask) (3.8.1)\n",
      "Collecting MarkupSafe>=2.0\n",
      "  Using cached MarkupSafe-2.1.3-cp37-cp37m-win_amd64.whl (17 kB)\n",
      "Installing collected packages: MarkupSafe, itsdangerous, Werkzeug, Jinja2, click, flask\n",
      "Successfully installed Jinja2-3.1.2 MarkupSafe-2.1.3 Werkzeug-2.2.3 click-8.1.6 flask-2.2.5 itsdangerous-2.1.2\n"
     ]
    },
    {
     "name": "stderr",
     "output_type": "stream",
     "text": [
      "WARNING: Ignoring invalid distribution -rotobuf (c:\\users\\ace\\appdata\\roaming\\python\\python37\\site-packages)\n",
      "WARNING: Ignoring invalid distribution -rotobuf (c:\\users\\ace\\appdata\\roaming\\python\\python37\\site-packages)\n",
      "WARNING: Ignoring invalid distribution -rotobuf (c:\\users\\ace\\appdata\\roaming\\python\\python37\\site-packages)\n",
      "WARNING: Ignoring invalid distribution -rotobuf (c:\\users\\ace\\appdata\\roaming\\python\\python37\\site-packages)\n",
      "WARNING: Ignoring invalid distribution -rotobuf (c:\\users\\ace\\appdata\\roaming\\python\\python37\\site-packages)\n",
      "WARNING: Ignoring invalid distribution -rotobuf (c:\\users\\ace\\appdata\\roaming\\python\\python37\\site-packages)\n"
     ]
    }
   ],
   "source": [
    "\n"
   ]
  },
  {
   "cell_type": "code",
   "execution_count": 7,
   "metadata": {},
   "outputs": [
    {
     "ename": "ModuleNotFoundError",
     "evalue": "No module named 'MARKET_BASKET_PROJECT'",
     "output_type": "error",
     "traceback": [
      "\u001b[1;31m---------------------------------------------------------------------------\u001b[0m",
      "\u001b[1;31mModuleNotFoundError\u001b[0m                       Traceback (most recent call last)",
      "\u001b[1;32m~\\AppData\\Local\\Temp\\ipykernel_16136\\2592689836.py\u001b[0m in \u001b[0;36m<module>\u001b[1;34m\u001b[0m\n\u001b[0;32m      1\u001b[0m \u001b[1;32mfrom\u001b[0m \u001b[0mflask\u001b[0m \u001b[1;32mimport\u001b[0m \u001b[0mFlask\u001b[0m\u001b[1;33m\u001b[0m\u001b[0m\n\u001b[1;32m----> 2\u001b[1;33m \u001b[1;32mfrom\u001b[0m \u001b[0mMARKET_BASKET_PROJECT\u001b[0m\u001b[1;33m.\u001b[0m\u001b[0mlogger\u001b[0m \u001b[1;32mimport\u001b[0m \u001b[0mlogging\u001b[0m\u001b[1;33m\u001b[0m\u001b[0m\n\u001b[0m\u001b[0;32m      3\u001b[0m \u001b[1;33m\u001b[0m\u001b[0m\n\u001b[0;32m      4\u001b[0m \u001b[0mapp\u001b[0m\u001b[1;33m=\u001b[0m \u001b[0mFlask\u001b[0m\u001b[1;33m(\u001b[0m\u001b[0m__name__\u001b[0m\u001b[1;33m)\u001b[0m\u001b[1;33m\u001b[0m\u001b[0m\n\u001b[0;32m      5\u001b[0m \u001b[1;33m\u001b[0m\u001b[0m\n",
      "\u001b[1;31mModuleNotFoundError\u001b[0m: No module named 'MARKET_BASKET_PROJECT'"
     ]
    }
   ],
   "source": [
    "from flask import Flask\n",
    "from MARKET_BASKET_PROJECT.logger import logging\n",
    "\n",
    "app= Flask(__name__)\n",
    "\n",
    "@app.route(\"/\",methods = [\"GET\",\"POST\"])\n",
    "def index():\n",
    "    logging.info(\"Executing the code this is the test for log file\")\n",
    "\n",
    "    return \"This is the project about market basket analysis\"\n",
    "\n",
    "if __name__==\"__main__\":\n",
    "    app.run(debug=True)\n",
    "\n"
   ]
  },
  {
   "cell_type": "code",
   "execution_count": null,
   "metadata": {},
   "outputs": [],
   "source": []
  }
 ],
 "metadata": {
  "kernelspec": {
   "display_name": "Python 3",
   "language": "python",
   "name": "python3"
  },
  "language_info": {
   "codemirror_mode": {
    "name": "ipython",
    "version": 3
   },
   "file_extension": ".py",
   "mimetype": "text/x-python",
   "name": "python",
   "nbconvert_exporter": "python",
   "pygments_lexer": "ipython3",
   "version": "3.7.12"
  },
  "orig_nbformat": 4
 },
 "nbformat": 4,
 "nbformat_minor": 2
}
