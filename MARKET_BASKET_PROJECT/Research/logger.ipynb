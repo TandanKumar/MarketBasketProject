{
 "cells": [
  {
   "cell_type": "code",
   "execution_count": 5,
   "metadata": {},
   "outputs": [],
   "source": [
    "## Below code should be written in MARKET_BASKET_ANALYSIS.CONSTANT.__INIT__.PY\n",
    "\n",
    "import os\n",
    "from datetime import datetime\n",
    "\n",
    "\n",
    "def get_current_time_stamp():\n",
    "    return f\"{datetime.now().strftime('%Y-%m-%d-%H-%M-%S')}\""
   ]
  },
  {
   "cell_type": "code",
   "execution_count": 9,
   "metadata": {},
   "outputs": [],
   "source": [
    "os.chdir(\"D:\\\\Projects\\\\brazilian\\\\MarketBasketProject\")"
   ]
  },
  {
   "cell_type": "code",
   "execution_count": 10,
   "metadata": {},
   "outputs": [
    {
     "name": "stdout",
     "output_type": "stream",
     "text": [
      "D:\\Projects\\brazilian\\MarketBasketProject\n"
     ]
    }
   ],
   "source": [
    "from MARKET_BASKET_PROJECT.logger import logging"
   ]
  },
  {
   "cell_type": "code",
   "execution_count": 11,
   "metadata": {},
   "outputs": [],
   "source": [
    "# Below code should be wrtitten in MARKET_BASKET_ANALYSIS.LOGGER.__INIT__.PY\n",
    "\n",
    "import logging\n",
    "from datetime import datetime\n",
    "import os\n",
    "import pandas as pd\n",
    "from MARKET_BASKET_PROJECT.constant import get_current_time_stamp \n",
    "LOG_DIR=\"MARKET_BASKET_PROJECT_Research_logger_notebook_logs\"\n",
    "\n",
    "def get_log_file_name():\n",
    "    return f\"log_{get_current_time_stamp()}.log\"\n",
    "\n",
    "LOG_FILE_NAME=get_log_file_name()\n",
    "\n",
    "os.makedirs(LOG_DIR,exist_ok=True)\n",
    "\n",
    "LOG_FILE_PATH = os.path.join(LOG_DIR,LOG_FILE_NAME)\n",
    "\n",
    "\n",
    "\n",
    "logging.basicConfig(filename=LOG_FILE_PATH,\n",
    "filemode=\"w\",\n",
    "format='[%(asctime)s]^;%(levelname)s^;%(lineno)d^;%(filename)s^;%(funcName)s()^;%(message)s',\n",
    "level=logging.INFO\n",
    ")\n",
    "\n",
    "def get_log_dataframe(file_path):\n",
    "    data=[]\n",
    "    with open(file_path) as log_file:\n",
    "        for line in log_file.readlines():\n",
    "            data.append(line.split(\"^;\"))\n",
    "\n",
    "    log_df = pd.DataFrame(data)\n",
    "    columns=[\"Time stamp\",\"Log Level\",\"line number\",\"file name\",\"function name\",\"message\"]\n",
    "    log_df.columns=columns\n",
    "    \n",
    "    log_df[\"log_message\"] = log_df['Time stamp'].astype(str) +\":$\"+ log_df[\"message\"]\n",
    "\n",
    "    return log_df[[\"log_message\"]]\n",
    "\n",
    "\n"
   ]
  },
  {
   "cell_type": "code",
   "execution_count": 12,
   "metadata": {},
   "outputs": [],
   "source": [
    "logging.info(\"This is being tested from the ipynb notebook\")"
   ]
  },
  {
   "cell_type": "code",
   "execution_count": null,
   "metadata": {},
   "outputs": [],
   "source": []
  },
  {
   "cell_type": "code",
   "execution_count": null,
   "metadata": {},
   "outputs": [],
   "source": [
    "\n"
   ]
  },
  {
   "cell_type": "code",
   "execution_count": null,
   "metadata": {},
   "outputs": [],
   "source": [
    "\n"
   ]
  },
  {
   "cell_type": "code",
   "execution_count": null,
   "metadata": {},
   "outputs": [],
   "source": []
  }
 ],
 "metadata": {
  "kernelspec": {
   "display_name": "Python 3",
   "language": "python",
   "name": "python3"
  },
  "language_info": {
   "codemirror_mode": {
    "name": "ipython",
    "version": 3
   },
   "file_extension": ".py",
   "mimetype": "text/x-python",
   "name": "python",
   "nbconvert_exporter": "python",
   "pygments_lexer": "ipython3",
   "version": "3.7.12"
  },
  "orig_nbformat": 4
 },
 "nbformat": 4,
 "nbformat_minor": 2
}
