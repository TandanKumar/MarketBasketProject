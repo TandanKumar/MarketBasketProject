{
 "cells": [
  {
   "cell_type": "code",
   "execution_count": null,
   "metadata": {},
   "outputs": [],
   "source": [
    "## This code needs to be written in MARKET_BASKET_ANALYSIS.Exception.__INIT__.PY\n",
    "\n",
    "import os\n",
    "import sys\n",
    "\n",
    "\n",
    "class MARKET_BASKET_PROJECT_Exception(Exception):\n",
    "\n",
    "    def __init__(self,error_message:Exception, error_detail:sys):\n",
    "        super().__init__(error_message)\n",
    "        self.error_message=MARKET_BASKET_PROJECT_Exception.get_detailed_error_message(error_message=error_message,error_detail=error_detail)\n",
    "\n",
    "    @staticmethod\n",
    "    def get_detailed_error_message(error_message : Exception , error_detail:sys)->str:\n",
    "        \"\"\"\n",
    "            error_message :Exception Object\n",
    "            error_detail : object of sys module\n",
    "        \n",
    "        \"\"\"\n",
    "        \n",
    "        _,_,exec_tb = error_detail.exc_info()\n",
    "        line_number = exec_tb.tb_frame.f_lineno\n",
    "        file_name = exec_tb.tb_frame.f_code.co_filename\n",
    "        error_message = f\"Error has occured in file [{file_name}] at line number [{line_number}] and Error Message :[{error_message}]\"\n",
    "        return error_message    \n",
    "\n",
    "    def __str__(self):\n",
    "        return self.error_message\n",
    "    \n",
    "    def __repr__(self)->str:\n",
    "        return MARKET_BASKET_PROJECT_Exception.__name__.str()\n"
   ]
  }
 ],
 "metadata": {
  "language_info": {
   "name": "python"
  },
  "orig_nbformat": 4
 },
 "nbformat": 4,
 "nbformat_minor": 2
}
