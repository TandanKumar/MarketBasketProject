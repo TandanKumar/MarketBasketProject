{
 "cells": [
  {
   "cell_type": "code",
   "execution_count": 1,
   "metadata": {},
   "outputs": [],
   "source": [
    "from collections import namedtuple"
   ]
  },
  {
   "cell_type": "markdown",
   "metadata": {},
   "source": [
    "1. Download URl\n",
    "2. Download Folder(compressed file)\n",
    "3. Download Folder(Extracted File)\n",
    "4. Train Dataset Folder\n",
    "5. Test Dataset folder"
   ]
  },
  {
   "cell_type": "code",
   "execution_count": 3,
   "metadata": {},
   "outputs": [],
   "source": [
    "DataIngestionConfig =  namedtuple(\"DataIngestionConfig\",\n",
    "                        [  \"dataset_download_url\",\"tgz_download_dir\" , \"raw_data_dir\" ,\"Ingested_train_dir\",\"Ingested_test_dir\"])\n"
   ]
  },
  {
   "cell_type": "code",
   "execution_count": 4,
   "metadata": {},
   "outputs": [],
   "source": [
    "#HOw to use named tupple\n",
    "\n",
    "data_ingestion_config=DataIngestionConfig( \n",
    "     dataset_download_url =\"asdasdasd\",\n",
    "     tgz_download_dir = \"sdsdsd\",\n",
    "     raw_data_dir = \"yuyuy\",\n",
    "     Ingested_train_dir = \"yuasjhdjasd\",\n",
    "     Ingested_test_dir = \"klklklkl\"\n",
    "\n",
    "\n",
    "\n",
    ")"
   ]
  },
  {
   "cell_type": "code",
   "execution_count": 8,
   "metadata": {},
   "outputs": [
    {
     "data": {
      "text/plain": [
       "DataIngestionConfig(dataset_download_url='asdasdasd', tgz_download_dir='sdsdsd', raw_data_dir='yuyuy', Ingested_train_dir='yuasjhdjasd', Ingested_test_dir='klklklkl')"
      ]
     },
     "execution_count": 8,
     "metadata": {},
     "output_type": "execute_result"
    }
   ],
   "source": [
    "data_ingestion_config"
   ]
  },
  {
   "cell_type": "code",
   "execution_count": null,
   "metadata": {},
   "outputs": [],
   "source": []
  }
 ],
 "metadata": {
  "kernelspec": {
   "display_name": "Python 3",
   "language": "python",
   "name": "python3"
  },
  "language_info": {
   "codemirror_mode": {
    "name": "ipython",
    "version": 3
   },
   "file_extension": ".py",
   "mimetype": "text/x-python",
   "name": "python",
   "nbconvert_exporter": "python",
   "pygments_lexer": "ipython3",
   "version": "3.7.12"
  },
  "orig_nbformat": 4
 },
 "nbformat": 4,
 "nbformat_minor": 2
}
